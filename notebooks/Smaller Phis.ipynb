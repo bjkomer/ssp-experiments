{
 "cells": [
  {
   "cell_type": "markdown",
   "metadata": {},
   "source": [
    "Testing a theory that smaller values of phi may produce nicer spaces for SSPs (will take longer to wrap around)"
   ]
  },
  {
   "cell_type": "code",
   "execution_count": 7,
   "metadata": {},
   "outputs": [],
   "source": [
    "%matplotlib inline\n",
    "import nengo\n",
    "import numpy as np\n",
    "import nengo_spa as spa\n",
    "from spatial_semantic_pointers.utils import power, encode_point, make_good_unitary, get_axes, \\\n",
    "    generate_region_vector, get_heatmap_vectors, power, make_fixed_dim_periodic_axis, make_optimal_periodic_axis\n",
    "import matplotlib.pyplot as plt"
   ]
  },
  {
   "cell_type": "code",
   "execution_count": 24,
   "metadata": {},
   "outputs": [],
   "source": [
    "def make_axis(dim, rng, phi_limit=np.pi/10.):\n",
    "    \n",
    "    phi = rng.uniform(-phi_limit, phi_limit, size=((dim - 1) // 2,))\n",
    "    phi = rng.randn((dim - 1) // 2)*np.pi\n",
    "    \n",
    "    fv = np.zeros(dim, dtype='complex64')\n",
    "    fv[0] = 1\n",
    "    fv[1:(dim + 1) // 2] = np.cos(phi) + 1j * np.sin(phi)\n",
    "    fv[-1:dim // 2:-1] = np.conj(fv[1:(dim + 1) // 2])\n",
    "    if dim % 2 == 0:\n",
    "        fv[dim // 2] = 1\n",
    "\n",
    "    assert np.allclose(np.abs(fv), 1)\n",
    "    v = np.fft.ifft(fv)\n",
    "    # assert np.allclose(v.imag, 0, atol=1e-5)\n",
    "    v = v.real\n",
    "    assert np.allclose(np.fft.fft(v), fv)\n",
    "    assert np.allclose(np.linalg.norm(v), 1)\n",
    "    return spa.SemanticPointer(v)\n",
    "\n",
    "def plot_1d(X, xs):\n",
    "    sim = np.zeros((len(xs),))\n",
    "    for i, x in enumerate(xs):\n",
    "        sim[i] = power(X, x).v[0]\n",
    "    return sim"
   ]
  },
  {
   "cell_type": "code",
   "execution_count": 25,
   "metadata": {},
   "outputs": [
    {
     "data": {
      "text/plain": [
       "[<matplotlib.lines.Line2D at 0x7f972721aa90>]"
      ]
     },
     "execution_count": 25,
     "metadata": {},
     "output_type": "execute_result"
    },
    {
     "data": {
      "image/png": "[encoded data removed]",
      "text/plain": [
       "<Figure size 432x288 with 1 Axes>"
      ]
     },
     "metadata": {
      "needs_background": "light"
     },
     "output_type": "display_data"
    }
   ],
   "source": [
    "dim = 128\n",
    "phi_limit=np.pi*2\n",
    "res = 128\n",
    "limit = 5\n",
    "xs = np.linspace(-limit, limit, res)\n",
    "rng = np.random.RandomState(seed=13)\n",
    "X = make_axis(dim=dim, rng=rng, phi_limit=phi_limit)\n",
    "sim = plot_1d(X, xs)\n",
    "plt.plot(xs, sim)"
   ]
  },
  {
   "cell_type": "code",
   "execution_count": null,
   "metadata": {},
   "outputs": [],
   "source": []
  }
 ],
 "metadata": {
  "kernelspec": {
   "display_name": "Python 3",
   "language": "python",
   "name": "python3"
  },
  "language_info": {
   "codemirror_mode": {
    "name": "ipython",
    "version": 3
   },
   "file_extension": ".py",
   "mimetype": "text/x-python",
   "name": "python",
   "nbconvert_exporter": "python",
   "pygments_lexer": "ipython3",
   "version": "3.7.5"
  }
 },
 "nbformat": 4,
 "nbformat_minor": 4
}
